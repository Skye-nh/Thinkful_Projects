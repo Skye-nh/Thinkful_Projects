{
  "cells": [
    {
      "cell_type": "markdown",
      "metadata": {
        "id": "view-in-github",
        "colab_type": "text"
      },
      "source": [
        "<a href=\"https://colab.research.google.com/github/Skye-nh/Thinkful_Projects/blob/main/Final_Capstone_Notebook.ipynb\" target=\"_parent\"><img src=\"https://colab.research.google.com/assets/colab-badge.svg\" alt=\"Open In Colab\"/></a>"
      ]
    },
    {
      "cell_type": "markdown",
      "metadata": {
        "id": "P-Jvdv3Q0Yxc"
      },
      "source": [
        ">>Connect to personal Google Drive."
      ]
    },
    {
      "cell_type": "code",
      "execution_count": null,
      "metadata": {
        "colab": {
          "base_uri": "https://localhost:8080/"
        },
        "id": "Jq-MhtncsFff",
        "outputId": "de876e93-89a7-48cf-f262-45b0d9b841bf"
      },
      "outputs": [
        {
          "name": "stdout",
          "output_type": "stream",
          "text": [
            "Mounted at /content/gdrive\n"
          ]
        }
      ],
      "source": [
        "from google.colab import drive\n",
        "drive.mount('/content/gdrive')"
      ]
    },
    {
      "cell_type": "markdown",
      "metadata": {
        "id": "BB8fBm3M0XlO"
      },
      "source": [
        ">>Import necessary packages, and import data from drive.\n",
        "\n",
        "The dataset utlized comes from a csv file on Google Drive downloaded from Kaggle. To access data, click the Google Drive csv link below, and select \"Add Shortcut to Drive\" and save the file to \"My Drive\". Make sure the title of the document remains \"Final_Capstone_Data.csv\".\n",
        "\n",
        "Google Drive csv link (USE THIS LINK TO IMPORT DATA): https://drive.google.com/file/d/1FYPVxqs9oL6c_Fyl-6U7DIJyi_j3LMJk/view?usp=sharing\n",
        "\n",
        "link to dataset origin on Kaggle (for reference):https://www.kaggle.com/datasets/mfaisalqureshi/hr-analytics-and-job-prediction?resource=download"
      ]
    },
    {
      "cell_type": "code",
      "execution_count": null,
      "metadata": {
        "id": "C6VV5fvMsqa_"
      },
      "outputs": [],
      "source": [
        "import pandas as pd\n",
        "import seaborn as sns\n",
        "from scipy import stats\n",
        "import matplotlib.pyplot as plt\n",
        "    \n",
        "df = pd.read_csv('/content/gdrive/My Drive/Final_Capstone_Data.csv')"
      ]
    },
    {
      "cell_type": "markdown",
      "metadata": {
        "id": "3ZDhTgRieeiC"
      },
      "source": [
        ">>Check to see if data has any null values."
      ]
    },
    {
      "cell_type": "code",
      "execution_count": null,
      "metadata": {
        "colab": {
          "base_uri": "https://localhost:8080/",
          "height": 488
        },
        "id": "rWeuU35Qeflp",
        "outputId": "be6e39ae-afd5-4c37-fd0b-33987c232b6a"
      },
      "outputs": [
        {
          "output_type": "execute_result",
          "data": {
            "text/plain": [
              "       satisfaction_level  last_evaluation  number_project  \\\n",
              "0                   False            False           False   \n",
              "1                   False            False           False   \n",
              "2                   False            False           False   \n",
              "3                   False            False           False   \n",
              "4                   False            False           False   \n",
              "...                   ...              ...             ...   \n",
              "14994               False            False           False   \n",
              "14995               False            False           False   \n",
              "14996               False            False           False   \n",
              "14997               False            False           False   \n",
              "14998               False            False           False   \n",
              "\n",
              "       average_montly_hours  time_spend_company  Work_accident   left  \\\n",
              "0                     False               False          False  False   \n",
              "1                     False               False          False  False   \n",
              "2                     False               False          False  False   \n",
              "3                     False               False          False  False   \n",
              "4                     False               False          False  False   \n",
              "...                     ...                 ...            ...    ...   \n",
              "14994                 False               False          False  False   \n",
              "14995                 False               False          False  False   \n",
              "14996                 False               False          False  False   \n",
              "14997                 False               False          False  False   \n",
              "14998                 False               False          False  False   \n",
              "\n",
              "       promotion_last_5years  Department  salary  \n",
              "0                      False       False   False  \n",
              "1                      False       False   False  \n",
              "2                      False       False   False  \n",
              "3                      False       False   False  \n",
              "4                      False       False   False  \n",
              "...                      ...         ...     ...  \n",
              "14994                  False       False   False  \n",
              "14995                  False       False   False  \n",
              "14996                  False       False   False  \n",
              "14997                  False       False   False  \n",
              "14998                  False       False   False  \n",
              "\n",
              "[14999 rows x 10 columns]"
            ],
            "text/html": [
              "\n",
              "  <div id=\"df-1fc33334-b096-4f16-bf4d-a69b0387558b\">\n",
              "    <div class=\"colab-df-container\">\n",
              "      <div>\n",
              "<style scoped>\n",
              "    .dataframe tbody tr th:only-of-type {\n",
              "        vertical-align: middle;\n",
              "    }\n",
              "\n",
              "    .dataframe tbody tr th {\n",
              "        vertical-align: top;\n",
              "    }\n",
              "\n",
              "    .dataframe thead th {\n",
              "        text-align: right;\n",
              "    }\n",
              "</style>\n",
              "<table border=\"1\" class=\"dataframe\">\n",
              "  <thead>\n",
              "    <tr style=\"text-align: right;\">\n",
              "      <th></th>\n",
              "      <th>satisfaction_level</th>\n",
              "      <th>last_evaluation</th>\n",
              "      <th>number_project</th>\n",
              "      <th>average_montly_hours</th>\n",
              "      <th>time_spend_company</th>\n",
              "      <th>Work_accident</th>\n",
              "      <th>left</th>\n",
              "      <th>promotion_last_5years</th>\n",
              "      <th>Department</th>\n",
              "      <th>salary</th>\n",
              "    </tr>\n",
              "  </thead>\n",
              "  <tbody>\n",
              "    <tr>\n",
              "      <th>0</th>\n",
              "      <td>False</td>\n",
              "      <td>False</td>\n",
              "      <td>False</td>\n",
              "      <td>False</td>\n",
              "      <td>False</td>\n",
              "      <td>False</td>\n",
              "      <td>False</td>\n",
              "      <td>False</td>\n",
              "      <td>False</td>\n",
              "      <td>False</td>\n",
              "    </tr>\n",
              "    <tr>\n",
              "      <th>1</th>\n",
              "      <td>False</td>\n",
              "      <td>False</td>\n",
              "      <td>False</td>\n",
              "      <td>False</td>\n",
              "      <td>False</td>\n",
              "      <td>False</td>\n",
              "      <td>False</td>\n",
              "      <td>False</td>\n",
              "      <td>False</td>\n",
              "      <td>False</td>\n",
              "    </tr>\n",
              "    <tr>\n",
              "      <th>2</th>\n",
              "      <td>False</td>\n",
              "      <td>False</td>\n",
              "      <td>False</td>\n",
              "      <td>False</td>\n",
              "      <td>False</td>\n",
              "      <td>False</td>\n",
              "      <td>False</td>\n",
              "      <td>False</td>\n",
              "      <td>False</td>\n",
              "      <td>False</td>\n",
              "    </tr>\n",
              "    <tr>\n",
              "      <th>3</th>\n",
              "      <td>False</td>\n",
              "      <td>False</td>\n",
              "      <td>False</td>\n",
              "      <td>False</td>\n",
              "      <td>False</td>\n",
              "      <td>False</td>\n",
              "      <td>False</td>\n",
              "      <td>False</td>\n",
              "      <td>False</td>\n",
              "      <td>False</td>\n",
              "    </tr>\n",
              "    <tr>\n",
              "      <th>4</th>\n",
              "      <td>False</td>\n",
              "      <td>False</td>\n",
              "      <td>False</td>\n",
              "      <td>False</td>\n",
              "      <td>False</td>\n",
              "      <td>False</td>\n",
              "      <td>False</td>\n",
              "      <td>False</td>\n",
              "      <td>False</td>\n",
              "      <td>False</td>\n",
              "    </tr>\n",
              "    <tr>\n",
              "      <th>...</th>\n",
              "      <td>...</td>\n",
              "      <td>...</td>\n",
              "      <td>...</td>\n",
              "      <td>...</td>\n",
              "      <td>...</td>\n",
              "      <td>...</td>\n",
              "      <td>...</td>\n",
              "      <td>...</td>\n",
              "      <td>...</td>\n",
              "      <td>...</td>\n",
              "    </tr>\n",
              "    <tr>\n",
              "      <th>14994</th>\n",
              "      <td>False</td>\n",
              "      <td>False</td>\n",
              "      <td>False</td>\n",
              "      <td>False</td>\n",
              "      <td>False</td>\n",
              "      <td>False</td>\n",
              "      <td>False</td>\n",
              "      <td>False</td>\n",
              "      <td>False</td>\n",
              "      <td>False</td>\n",
              "    </tr>\n",
              "    <tr>\n",
              "      <th>14995</th>\n",
              "      <td>False</td>\n",
              "      <td>False</td>\n",
              "      <td>False</td>\n",
              "      <td>False</td>\n",
              "      <td>False</td>\n",
              "      <td>False</td>\n",
              "      <td>False</td>\n",
              "      <td>False</td>\n",
              "      <td>False</td>\n",
              "      <td>False</td>\n",
              "    </tr>\n",
              "    <tr>\n",
              "      <th>14996</th>\n",
              "      <td>False</td>\n",
              "      <td>False</td>\n",
              "      <td>False</td>\n",
              "      <td>False</td>\n",
              "      <td>False</td>\n",
              "      <td>False</td>\n",
              "      <td>False</td>\n",
              "      <td>False</td>\n",
              "      <td>False</td>\n",
              "      <td>False</td>\n",
              "    </tr>\n",
              "    <tr>\n",
              "      <th>14997</th>\n",
              "      <td>False</td>\n",
              "      <td>False</td>\n",
              "      <td>False</td>\n",
              "      <td>False</td>\n",
              "      <td>False</td>\n",
              "      <td>False</td>\n",
              "      <td>False</td>\n",
              "      <td>False</td>\n",
              "      <td>False</td>\n",
              "      <td>False</td>\n",
              "    </tr>\n",
              "    <tr>\n",
              "      <th>14998</th>\n",
              "      <td>False</td>\n",
              "      <td>False</td>\n",
              "      <td>False</td>\n",
              "      <td>False</td>\n",
              "      <td>False</td>\n",
              "      <td>False</td>\n",
              "      <td>False</td>\n",
              "      <td>False</td>\n",
              "      <td>False</td>\n",
              "      <td>False</td>\n",
              "    </tr>\n",
              "  </tbody>\n",
              "</table>\n",
              "<p>14999 rows × 10 columns</p>\n",
              "</div>\n",
              "      <button class=\"colab-df-convert\" onclick=\"convertToInteractive('df-1fc33334-b096-4f16-bf4d-a69b0387558b')\"\n",
              "              title=\"Convert this dataframe to an interactive table.\"\n",
              "              style=\"display:none;\">\n",
              "        \n",
              "  <svg xmlns=\"http://www.w3.org/2000/svg\" height=\"24px\"viewBox=\"0 0 24 24\"\n",
              "       width=\"24px\">\n",
              "    <path d=\"M0 0h24v24H0V0z\" fill=\"none\"/>\n",
              "    <path d=\"M18.56 5.44l.94 2.06.94-2.06 2.06-.94-2.06-.94-.94-2.06-.94 2.06-2.06.94zm-11 1L8.5 8.5l.94-2.06 2.06-.94-2.06-.94L8.5 2.5l-.94 2.06-2.06.94zm10 10l.94 2.06.94-2.06 2.06-.94-2.06-.94-.94-2.06-.94 2.06-2.06.94z\"/><path d=\"M17.41 7.96l-1.37-1.37c-.4-.4-.92-.59-1.43-.59-.52 0-1.04.2-1.43.59L10.3 9.45l-7.72 7.72c-.78.78-.78 2.05 0 2.83L4 21.41c.39.39.9.59 1.41.59.51 0 1.02-.2 1.41-.59l7.78-7.78 2.81-2.81c.8-.78.8-2.07 0-2.86zM5.41 20L4 18.59l7.72-7.72 1.47 1.35L5.41 20z\"/>\n",
              "  </svg>\n",
              "      </button>\n",
              "      \n",
              "  <style>\n",
              "    .colab-df-container {\n",
              "      display:flex;\n",
              "      flex-wrap:wrap;\n",
              "      gap: 12px;\n",
              "    }\n",
              "\n",
              "    .colab-df-convert {\n",
              "      background-color: #E8F0FE;\n",
              "      border: none;\n",
              "      border-radius: 50%;\n",
              "      cursor: pointer;\n",
              "      display: none;\n",
              "      fill: #1967D2;\n",
              "      height: 32px;\n",
              "      padding: 0 0 0 0;\n",
              "      width: 32px;\n",
              "    }\n",
              "\n",
              "    .colab-df-convert:hover {\n",
              "      background-color: #E2EBFA;\n",
              "      box-shadow: 0px 1px 2px rgba(60, 64, 67, 0.3), 0px 1px 3px 1px rgba(60, 64, 67, 0.15);\n",
              "      fill: #174EA6;\n",
              "    }\n",
              "\n",
              "    [theme=dark] .colab-df-convert {\n",
              "      background-color: #3B4455;\n",
              "      fill: #D2E3FC;\n",
              "    }\n",
              "\n",
              "    [theme=dark] .colab-df-convert:hover {\n",
              "      background-color: #434B5C;\n",
              "      box-shadow: 0px 1px 3px 1px rgba(0, 0, 0, 0.15);\n",
              "      filter: drop-shadow(0px 1px 2px rgba(0, 0, 0, 0.3));\n",
              "      fill: #FFFFFF;\n",
              "    }\n",
              "  </style>\n",
              "\n",
              "      <script>\n",
              "        const buttonEl =\n",
              "          document.querySelector('#df-1fc33334-b096-4f16-bf4d-a69b0387558b button.colab-df-convert');\n",
              "        buttonEl.style.display =\n",
              "          google.colab.kernel.accessAllowed ? 'block' : 'none';\n",
              "\n",
              "        async function convertToInteractive(key) {\n",
              "          const element = document.querySelector('#df-1fc33334-b096-4f16-bf4d-a69b0387558b');\n",
              "          const dataTable =\n",
              "            await google.colab.kernel.invokeFunction('convertToInteractive',\n",
              "                                                     [key], {});\n",
              "          if (!dataTable) return;\n",
              "\n",
              "          const docLinkHtml = 'Like what you see? Visit the ' +\n",
              "            '<a target=\"_blank\" href=https://colab.research.google.com/notebooks/data_table.ipynb>data table notebook</a>'\n",
              "            + ' to learn more about interactive tables.';\n",
              "          element.innerHTML = '';\n",
              "          dataTable['output_type'] = 'display_data';\n",
              "          await google.colab.output.renderOutput(dataTable, element);\n",
              "          const docLink = document.createElement('div');\n",
              "          docLink.innerHTML = docLinkHtml;\n",
              "          element.appendChild(docLink);\n",
              "        }\n",
              "      </script>\n",
              "    </div>\n",
              "  </div>\n",
              "  "
            ]
          },
          "metadata": {},
          "execution_count": 41
        }
      ],
      "source": [
        "df.isnull()"
      ]
    },
    {
      "cell_type": "markdown",
      "metadata": {
        "id": "thIVQ6uEgg4N"
      },
      "source": [
        ">>There are no null values in the dataset; however, there are three column headers that need correcting. The header 'average_montly_hours\" misspells \"monthly\", and the headers \"Work_accident\" and \"Department\" use inconsistent capitalization. \n",
        "\n",
        "The following code renames the dataset, and corrects these errors."
      ]
    },
    {
      "cell_type": "code",
      "execution_count": null,
      "metadata": {
        "colab": {
          "base_uri": "https://localhost:8080/",
          "height": 270
        },
        "id": "ZuCIjEfhgiyv",
        "outputId": "509c7277-4bd3-481a-99b3-6322434235fc"
      },
      "outputs": [
        {
          "data": {
            "text/html": [
              "\n",
              "  <div id=\"df-2c80c560-eaf8-4460-8cf6-c5cec4d51e89\">\n",
              "    <div class=\"colab-df-container\">\n",
              "      <div>\n",
              "<style scoped>\n",
              "    .dataframe tbody tr th:only-of-type {\n",
              "        vertical-align: middle;\n",
              "    }\n",
              "\n",
              "    .dataframe tbody tr th {\n",
              "        vertical-align: top;\n",
              "    }\n",
              "\n",
              "    .dataframe thead th {\n",
              "        text-align: right;\n",
              "    }\n",
              "</style>\n",
              "<table border=\"1\" class=\"dataframe\">\n",
              "  <thead>\n",
              "    <tr style=\"text-align: right;\">\n",
              "      <th></th>\n",
              "      <th>satisfaction_level</th>\n",
              "      <th>last_evaluation</th>\n",
              "      <th>number_project</th>\n",
              "      <th>average_monthly_hours</th>\n",
              "      <th>time_spend_company</th>\n",
              "      <th>work_accident</th>\n",
              "      <th>left</th>\n",
              "      <th>promotion_last_5years</th>\n",
              "      <th>department</th>\n",
              "      <th>salary</th>\n",
              "    </tr>\n",
              "  </thead>\n",
              "  <tbody>\n",
              "    <tr>\n",
              "      <th>0</th>\n",
              "      <td>0.38</td>\n",
              "      <td>0.53</td>\n",
              "      <td>2</td>\n",
              "      <td>157</td>\n",
              "      <td>3</td>\n",
              "      <td>0</td>\n",
              "      <td>1</td>\n",
              "      <td>0</td>\n",
              "      <td>sales</td>\n",
              "      <td>low</td>\n",
              "    </tr>\n",
              "    <tr>\n",
              "      <th>1</th>\n",
              "      <td>0.80</td>\n",
              "      <td>0.86</td>\n",
              "      <td>5</td>\n",
              "      <td>262</td>\n",
              "      <td>6</td>\n",
              "      <td>0</td>\n",
              "      <td>1</td>\n",
              "      <td>0</td>\n",
              "      <td>sales</td>\n",
              "      <td>medium</td>\n",
              "    </tr>\n",
              "    <tr>\n",
              "      <th>2</th>\n",
              "      <td>0.11</td>\n",
              "      <td>0.88</td>\n",
              "      <td>7</td>\n",
              "      <td>272</td>\n",
              "      <td>4</td>\n",
              "      <td>0</td>\n",
              "      <td>1</td>\n",
              "      <td>0</td>\n",
              "      <td>sales</td>\n",
              "      <td>medium</td>\n",
              "    </tr>\n",
              "    <tr>\n",
              "      <th>3</th>\n",
              "      <td>0.72</td>\n",
              "      <td>0.87</td>\n",
              "      <td>5</td>\n",
              "      <td>223</td>\n",
              "      <td>5</td>\n",
              "      <td>0</td>\n",
              "      <td>1</td>\n",
              "      <td>0</td>\n",
              "      <td>sales</td>\n",
              "      <td>low</td>\n",
              "    </tr>\n",
              "    <tr>\n",
              "      <th>4</th>\n",
              "      <td>0.37</td>\n",
              "      <td>0.52</td>\n",
              "      <td>2</td>\n",
              "      <td>159</td>\n",
              "      <td>3</td>\n",
              "      <td>0</td>\n",
              "      <td>1</td>\n",
              "      <td>0</td>\n",
              "      <td>sales</td>\n",
              "      <td>low</td>\n",
              "    </tr>\n",
              "  </tbody>\n",
              "</table>\n",
              "</div>\n",
              "      <button class=\"colab-df-convert\" onclick=\"convertToInteractive('df-2c80c560-eaf8-4460-8cf6-c5cec4d51e89')\"\n",
              "              title=\"Convert this dataframe to an interactive table.\"\n",
              "              style=\"display:none;\">\n",
              "        \n",
              "  <svg xmlns=\"http://www.w3.org/2000/svg\" height=\"24px\"viewBox=\"0 0 24 24\"\n",
              "       width=\"24px\">\n",
              "    <path d=\"M0 0h24v24H0V0z\" fill=\"none\"/>\n",
              "    <path d=\"M18.56 5.44l.94 2.06.94-2.06 2.06-.94-2.06-.94-.94-2.06-.94 2.06-2.06.94zm-11 1L8.5 8.5l.94-2.06 2.06-.94-2.06-.94L8.5 2.5l-.94 2.06-2.06.94zm10 10l.94 2.06.94-2.06 2.06-.94-2.06-.94-.94-2.06-.94 2.06-2.06.94z\"/><path d=\"M17.41 7.96l-1.37-1.37c-.4-.4-.92-.59-1.43-.59-.52 0-1.04.2-1.43.59L10.3 9.45l-7.72 7.72c-.78.78-.78 2.05 0 2.83L4 21.41c.39.39.9.59 1.41.59.51 0 1.02-.2 1.41-.59l7.78-7.78 2.81-2.81c.8-.78.8-2.07 0-2.86zM5.41 20L4 18.59l7.72-7.72 1.47 1.35L5.41 20z\"/>\n",
              "  </svg>\n",
              "      </button>\n",
              "      \n",
              "  <style>\n",
              "    .colab-df-container {\n",
              "      display:flex;\n",
              "      flex-wrap:wrap;\n",
              "      gap: 12px;\n",
              "    }\n",
              "\n",
              "    .colab-df-convert {\n",
              "      background-color: #E8F0FE;\n",
              "      border: none;\n",
              "      border-radius: 50%;\n",
              "      cursor: pointer;\n",
              "      display: none;\n",
              "      fill: #1967D2;\n",
              "      height: 32px;\n",
              "      padding: 0 0 0 0;\n",
              "      width: 32px;\n",
              "    }\n",
              "\n",
              "    .colab-df-convert:hover {\n",
              "      background-color: #E2EBFA;\n",
              "      box-shadow: 0px 1px 2px rgba(60, 64, 67, 0.3), 0px 1px 3px 1px rgba(60, 64, 67, 0.15);\n",
              "      fill: #174EA6;\n",
              "    }\n",
              "\n",
              "    [theme=dark] .colab-df-convert {\n",
              "      background-color: #3B4455;\n",
              "      fill: #D2E3FC;\n",
              "    }\n",
              "\n",
              "    [theme=dark] .colab-df-convert:hover {\n",
              "      background-color: #434B5C;\n",
              "      box-shadow: 0px 1px 3px 1px rgba(0, 0, 0, 0.15);\n",
              "      filter: drop-shadow(0px 1px 2px rgba(0, 0, 0, 0.3));\n",
              "      fill: #FFFFFF;\n",
              "    }\n",
              "  </style>\n",
              "\n",
              "      <script>\n",
              "        const buttonEl =\n",
              "          document.querySelector('#df-2c80c560-eaf8-4460-8cf6-c5cec4d51e89 button.colab-df-convert');\n",
              "        buttonEl.style.display =\n",
              "          google.colab.kernel.accessAllowed ? 'block' : 'none';\n",
              "\n",
              "        async function convertToInteractive(key) {\n",
              "          const element = document.querySelector('#df-2c80c560-eaf8-4460-8cf6-c5cec4d51e89');\n",
              "          const dataTable =\n",
              "            await google.colab.kernel.invokeFunction('convertToInteractive',\n",
              "                                                     [key], {});\n",
              "          if (!dataTable) return;\n",
              "\n",
              "          const docLinkHtml = 'Like what you see? Visit the ' +\n",
              "            '<a target=\"_blank\" href=https://colab.research.google.com/notebooks/data_table.ipynb>data table notebook</a>'\n",
              "            + ' to learn more about interactive tables.';\n",
              "          element.innerHTML = '';\n",
              "          dataTable['output_type'] = 'display_data';\n",
              "          await google.colab.output.renderOutput(dataTable, element);\n",
              "          const docLink = document.createElement('div');\n",
              "          docLink.innerHTML = docLinkHtml;\n",
              "          element.appendChild(docLink);\n",
              "        }\n",
              "      </script>\n",
              "    </div>\n",
              "  </div>\n",
              "  "
            ],
            "text/plain": [
              "   satisfaction_level  last_evaluation  number_project  average_monthly_hours  \\\n",
              "0                0.38             0.53               2                    157   \n",
              "1                0.80             0.86               5                    262   \n",
              "2                0.11             0.88               7                    272   \n",
              "3                0.72             0.87               5                    223   \n",
              "4                0.37             0.52               2                    159   \n",
              "\n",
              "   time_spend_company  work_accident  left  promotion_last_5years department  \\\n",
              "0                   3              0     1                      0      sales   \n",
              "1                   6              0     1                      0      sales   \n",
              "2                   4              0     1                      0      sales   \n",
              "3                   5              0     1                      0      sales   \n",
              "4                   3              0     1                      0      sales   \n",
              "\n",
              "   salary  \n",
              "0     low  \n",
              "1  medium  \n",
              "2  medium  \n",
              "3     low  \n",
              "4     low  "
            ]
          },
          "execution_count": 9,
          "metadata": {},
          "output_type": "execute_result"
        }
      ],
      "source": [
        "hr_df = df.rename (columns = {'average_montly_hours': 'average_monthly_hours',\n",
        "                              'Work_accident': 'work_accident',\n",
        "                              'Department': 'department'})\n",
        "hr_df.head()"
      ]
    },
    {
      "cell_type": "markdown",
      "metadata": {
        "id": "RHUkMWFThjY1"
      },
      "source": [
        "**Goals for Analysis:**\n",
        "\n",
        "Now the dataset is ready to be analyzed.\n",
        "\n",
        "This dataset reviews 10 keys indicators (11 columns) for approximately 15,000 employees (14, 999 records). \n",
        "\n",
        "The goal for this analysis is to determine what factors increase employee retention in the workplace. The following analysis will determine if salary and whether an employee has received a promotion in the last five years have a significant impact on employees' reported satisfaction levels.\n",
        "\n",
        "First, it needs to be known if reported satisfaction level has a significant impact on whether an employee will stay with their company or leave their company."
      ]
    },
    {
      "cell_type": "markdown",
      "metadata": {
        "id": "1-jpefI_ws3I"
      },
      "source": [
        "**Hypothesis 1:**\n",
        "\n",
        "Ho: There will not be a significant difference in satisfaction levels for employees who stayed at their company and those who left.\n",
        "\n",
        "Ha: There will be a significant difference in satisfaction levels for employees who stayed at their company and those who left.\n"
      ]
    },
    {
      "cell_type": "code",
      "execution_count": null,
      "metadata": {
        "colab": {
          "base_uri": "https://localhost:8080/"
        },
        "id": "MQa-ozi2t7K_",
        "outputId": "efbe27aa-1923-44c6-96b6-e19a546f5259"
      },
      "outputs": [
        {
          "data": {
            "text/plain": [
              "left\n",
              "0    0.666810\n",
              "1    0.440098\n",
              "Name: satisfaction_level, dtype: float64"
            ]
          },
          "execution_count": 18,
          "metadata": {},
          "output_type": "execute_result"
        }
      ],
      "source": [
        "hr_df.groupby('left').mean()['satisfaction_level']"
      ]
    },
    {
      "cell_type": "markdown",
      "source": [
        ">>Create a boxplot to visually display the mean difference in reported satisfaction levels between employees who stayed at their company and those who left their copmany."
      ],
      "metadata": {
        "id": "RtTW69R0x-n5"
      }
    },
    {
      "cell_type": "code",
      "execution_count": null,
      "metadata": {
        "colab": {
          "base_uri": "https://localhost:8080/",
          "height": 312
        },
        "id": "k2OgthdxrNkF",
        "outputId": "12cefbd6-ee4c-434f-b415-498fac91265e"
      },
      "outputs": [
        {
          "output_type": "execute_result",
          "data": {
            "text/plain": [
              "Text(0.5, 1.0, 'Mean Satisfaction Levels versus Whether Employees Left the Company')"
            ]
          },
          "metadata": {},
          "execution_count": 42
        },
        {
          "output_type": "display_data",
          "data": {
            "text/plain": [
              "<Figure size 432x288 with 1 Axes>"
            ],
            "image/png": "[encoded data removed]"
          },
          "metadata": {
            "needs_background": "light"
          }
        }
      ],
      "source": [
        "sns.boxplot(y='satisfaction_level', x='left', data = hr_df )\n",
        "plt.xlabel ('Left Company')\n",
        "plt.ylabel ('Reported Satisfaction Level')\n",
        "plt.xticks ([0,1], ['Stayed at Company','Left Company'])\n",
        "plt.title ('Mean Satisfaction Levels versus Whether Employees Left the Company')"
      ]
    },
    {
      "cell_type": "markdown",
      "source": [
        ">>The boxplot indicates there is a difference in means of reported satisfaction levels between employees who stayed at their company and those who left their company.\n",
        "\n",
        "The following lines of code will test if this difference is significant."
      ],
      "metadata": {
        "id": "gDhySrN7y7vg"
      }
    },
    {
      "cell_type": "markdown",
      "metadata": {
        "id": "AGPGAWMrw3md"
      },
      "source": [
        ">>Define selected data that corresponds to employees who stayed at their company (0) and those who left their company (1)."
      ]
    },
    {
      "cell_type": "code",
      "execution_count": null,
      "metadata": {
        "id": "8j46xkmfiPPL"
      },
      "outputs": [],
      "source": [
        "stayed_at_company = hr_df.iloc[(df['left'] == 0).values]"
      ]
    },
    {
      "cell_type": "code",
      "execution_count": null,
      "metadata": {
        "id": "U13S4fLVgxM9"
      },
      "outputs": [],
      "source": [
        "left_company =  hr_df.iloc[(df['left'] == 1).values]"
      ]
    },
    {
      "cell_type": "markdown",
      "metadata": {
        "id": "SXHycsvxw-ys"
      },
      "source": [
        ">>Run an independent sample t-test comparing the means in reported job satisfaction between employees who stayed at their company and those who left their company."
      ]
    },
    {
      "cell_type": "code",
      "execution_count": null,
      "metadata": {
        "colab": {
          "base_uri": "https://localhost:8080/"
        },
        "id": "fF7hLuyZiXjo",
        "outputId": "9300d3b9-8c36-4881-d8bf-044e255977a8"
      },
      "outputs": [
        {
          "output_type": "execute_result",
          "data": {
            "text/plain": [
              "Ttest_indResult(statistic=51.61280155890104, pvalue=0.0)"
            ]
          },
          "metadata": {},
          "execution_count": 46
        }
      ],
      "source": [
        "stats.ttest_ind(stayed_at_company['satisfaction_level'], left_company['satisfaction_level'])"
      ]
    },
    {
      "cell_type": "markdown",
      "metadata": {
        "id": "sDwkXHHmxMC7"
      },
      "source": [
        "**Hypothesis 1 Findings:**\n",
        "\n",
        "**Null hpothesis rejected.**\n",
        "\n",
        "There is a significant difference in reported job satisfaction between employees who stayed at their company and those who left their company. This means employees who stayed with the company will report a higher level in job satisfaction. "
      ]
    },
    {
      "cell_type": "markdown",
      "source": [
        ">>The first hypothesis confirms that reported job satisfaction is a good indicator of whether an employee will stay with their company or leave their company.\n",
        "\n",
        "The following two hypotheses will test if employees who have recieved a promotion in the last five years and employees who report a \"medium\" or \"high\" salary will report higher job satisfaction."
      ],
      "metadata": {
        "id": "vyiAm-_Yz81-"
      }
    },
    {
      "cell_type": "markdown",
      "metadata": {
        "id": "PbRTi8Vx37GD"
      },
      "source": [
        "**Hypothesis 2:**\n",
        "\n",
        "Ho: There will not be a significant difference in satisfaction levels for employees who received a promotion in the last five years and those who did not.\n",
        "\n",
        "Ha: There will be a significant difference in satisfaction levels for employees who received a promotion in the last five years and those who did not."
      ]
    },
    {
      "cell_type": "code",
      "execution_count": null,
      "metadata": {
        "colab": {
          "base_uri": "https://localhost:8080/"
        },
        "id": "Jono_6KatQah",
        "outputId": "0c7b2964-d891-4ac3-fcc2-e350fefdaa8c"
      },
      "outputs": [
        {
          "data": {
            "text/plain": [
              "promotion_last_5years\n",
              "0    0.611895\n",
              "1    0.656019\n",
              "Name: satisfaction_level, dtype: float64"
            ]
          },
          "execution_count": 10,
          "metadata": {},
          "output_type": "execute_result"
        }
      ],
      "source": [
        "hr_df.groupby('promotion_last_5years').mean()['satisfaction_level']"
      ]
    },
    {
      "cell_type": "markdown",
      "source": [
        ">>Create a boxplot to visually display the mean difference in reported satisfaction levels between employees who received a promotion in the last five years and those who did not."
      ],
      "metadata": {
        "id": "pFABth1N1IVP"
      }
    },
    {
      "cell_type": "code",
      "execution_count": null,
      "metadata": {
        "colab": {
          "base_uri": "https://localhost:8080/",
          "height": 312
        },
        "id": "mbqTP55UimFh",
        "outputId": "95a0afe0-7f70-4b10-ee28-dd122f5dd323"
      },
      "outputs": [
        {
          "data": {
            "text/plain": [
              "Text(0.5, 1.0, 'Mean Satisfaction Levels versus Promotion Received')"
            ]
          },
          "execution_count": 25,
          "metadata": {},
          "output_type": "execute_result"
        },
        {
          "data": {
            "image/png": "[encoded data removed]",
            "text/plain": [
              "<Figure size 432x288 with 1 Axes>"
            ]
          },
          "metadata": {},
          "output_type": "display_data"
        }
      ],
      "source": [
        "sns.boxplot(y='satisfaction_level', x='promotion_last_5years', data = hr_df )\n",
        "plt.xlabel ('Received a Promotion in the Last Five Years')\n",
        "plt.ylabel ('Reported Satisfaction Level')\n",
        "plt.xticks ([0,1], ['No Promotion','Promotion'])\n",
        "plt.title ('Mean Satisfaction Levels versus Promotion Received')\n"
      ]
    },
    {
      "cell_type": "markdown",
      "source": [
        ">>The boxplot indicates there is a difference in means of reported satisfaction levels between employees who received a promotion in the last five years and those who did not.\n",
        "\n",
        "The following lines of code will test if this difference is significant."
      ],
      "metadata": {
        "id": "e--wih3m1bL0"
      }
    },
    {
      "cell_type": "markdown",
      "metadata": {
        "id": "FpWXK7Y9ugGC"
      },
      "source": [
        ">>Define selected data that corresponds to employees who recieved a promotion in the last five years (1) and those who have not (0)."
      ]
    },
    {
      "cell_type": "code",
      "execution_count": null,
      "metadata": {
        "id": "orY_ia9X37jr"
      },
      "outputs": [],
      "source": [
        "received_promotion = hr_df.iloc[(df['promotion_last_5years']== 1).values]"
      ]
    },
    {
      "cell_type": "code",
      "execution_count": null,
      "metadata": {
        "id": "gfi1VcDSQDzh"
      },
      "outputs": [],
      "source": [
        "no_promotion = hr_df.iloc[(df['promotion_last_5years']==0).values]"
      ]
    },
    {
      "cell_type": "markdown",
      "metadata": {
        "id": "k6Kt1e4OvV64"
      },
      "source": [
        ">>Run an independent sample t-test comparing the means in reported job satisfaction between employees who recieved a promotion in the last five years to those who have not."
      ]
    },
    {
      "cell_type": "code",
      "execution_count": null,
      "metadata": {
        "colab": {
          "base_uri": "https://localhost:8080/"
        },
        "id": "2MCUeIpXQVLc",
        "outputId": "2faa85cb-109a-4650-f22d-61f37862260b"
      },
      "outputs": [
        {
          "data": {
            "text/plain": [
              "Ttest_indResult(statistic=3.1366967917856816, pvalue=0.0017119316267238923)"
            ]
          },
          "execution_count": 13,
          "metadata": {},
          "output_type": "execute_result"
        }
      ],
      "source": [
        "stats.ttest_ind(received_promotion['satisfaction_level'], no_promotion['satisfaction_level'])"
      ]
    },
    {
      "cell_type": "markdown",
      "metadata": {
        "id": "uE5hGBqZU67f"
      },
      "source": [
        "**Hypothesis 2 Findings:**\n",
        "\n",
        "**Null hypothesis rejected.**\n",
        "\n",
        "There is a significant difference in reported job satisfaction between employees who recieved a promotion in the last five years and those who did not. This means employees who have recieved a promotion in the five years will report a higher level in job satisfaction. "
      ]
    },
    {
      "cell_type": "markdown",
      "metadata": {
        "id": "4KpXia33v69J"
      },
      "source": [
        "**Hypothesis 3:**\n",
        "\n",
        "Ho: There will not be a significant difference in satisfaction levels for employees with medium to high salaries and those with low salaries.\n",
        "\n",
        "Ha: There will be a significant difference in satisfaction levels for employees with medium to high salaries and those with low salaries.\n",
        "\n"
      ]
    },
    {
      "cell_type": "code",
      "execution_count": null,
      "metadata": {
        "colab": {
          "base_uri": "https://localhost:8080/"
        },
        "id": "D-bquDkGtse_",
        "outputId": "bf425168-b52c-41ae-e62c-512b3cb3317c"
      },
      "outputs": [
        {
          "data": {
            "text/plain": [
              "salary\n",
              "high      0.637470\n",
              "low       0.600753\n",
              "medium    0.621817\n",
              "Name: satisfaction_level, dtype: float64"
            ]
          },
          "execution_count": 14,
          "metadata": {},
          "output_type": "execute_result"
        }
      ],
      "source": [
        "hr_df.groupby('salary').mean()['satisfaction_level']"
      ]
    },
    {
      "cell_type": "markdown",
      "source": [
        ">>Create a boxplot to visually display the mean difference in reported satisfaction levels between employees based on salary range."
      ],
      "metadata": {
        "id": "mkCTZyaD1zZq"
      }
    },
    {
      "cell_type": "code",
      "execution_count": null,
      "metadata": {
        "colab": {
          "base_uri": "https://localhost:8080/",
          "height": 312
        },
        "id": "oVmIV09FodXz",
        "outputId": "e8943d2e-b47e-4ef7-fa1b-aefb91740199"
      },
      "outputs": [
        {
          "data": {
            "text/plain": [
              "Text(0.5, 1.0, 'Mean Satisfaction Levels versus Salary')"
            ]
          },
          "execution_count": 31,
          "metadata": {},
          "output_type": "execute_result"
        },
        {
          "data": {
            "image/png": "[encoded data removed]",
            "text/plain": [
              "<Figure size 432x288 with 1 Axes>"
            ]
          },
          "metadata": {},
          "output_type": "display_data"
        }
      ],
      "source": [
        "sns.boxplot(y='satisfaction_level', x='salary', data = hr_df )\n",
        "plt.xlabel ('Salary')\n",
        "plt.ylabel ('Reported Satisfaction Level')\n",
        "plt.xticks ([0,1,2], ['Low','Medium','High'])\n",
        "plt.title ('Mean Satisfaction Levels versus Salary')"
      ]
    },
    {
      "cell_type": "markdown",
      "source": [
        ">>The boxplot indicates there is a difference in means of reported satisfaction levels between employees based on salary range.\n",
        "\n",
        "The following lines of code will test if there is a significant difference between employees with medium to high salaries and those with low salaries."
      ],
      "metadata": {
        "id": "fFOHM2qq2CMn"
      }
    },
    {
      "cell_type": "markdown",
      "metadata": {
        "id": "f3DDyhO_wLmp"
      },
      "source": [
        ">>Define selected data that corresponds to employees with medium or high salaries and those with low salaries."
      ]
    },
    {
      "cell_type": "code",
      "execution_count": null,
      "metadata": {
        "id": "gkFFW8pEWUDs"
      },
      "outputs": [],
      "source": [
        "medium_high_salary = hr_df.loc [(df['salary'] == 'medium') | (df['salary'] == 'high').values]"
      ]
    },
    {
      "cell_type": "code",
      "execution_count": null,
      "metadata": {
        "id": "csNRZAvuU7wX"
      },
      "outputs": [],
      "source": [
        "low_salary = hr_df.iloc[(df['salary'] == 'low').values]"
      ]
    },
    {
      "cell_type": "markdown",
      "metadata": {
        "id": "4fAMypRCwVxi"
      },
      "source": [
        ">>Run an independent sample t-test comparing the means in reported job satisfaction between employees with medium to high salaries and those with low salaries."
      ]
    },
    {
      "cell_type": "code",
      "execution_count": null,
      "metadata": {
        "colab": {
          "base_uri": "https://localhost:8080/"
        },
        "id": "3Lj0I9AGgMJ5",
        "outputId": "995d89e8-8424-411d-f9eb-8446e99b4d0b"
      },
      "outputs": [
        {
          "output_type": "execute_result",
          "data": {
            "text/plain": [
              "Ttest_indResult(statistic=5.81303188427904, pvalue=6.2598139677876395e-09)"
            ]
          },
          "metadata": {},
          "execution_count": 48
        }
      ],
      "source": [
        "stats.ttest_ind(medium_high_salary['satisfaction_level'], low_salary['satisfaction_level'])"
      ]
    },
    {
      "cell_type": "markdown",
      "metadata": {
        "id": "q5Og7LOSgw2D"
      },
      "source": [
        "**Hypothesis 3 Findings:**\n",
        "\n",
        "**Null hpothesis rejected.**\n",
        "\n",
        "There is a significant difference in reported job satisfaction between employees with medium to high salaries and those with low salaries. This means employees who have recieved a medium or high salary will report a higher level in job satisfaction. "
      ]
    },
    {
      "cell_type": "markdown",
      "metadata": {
        "id": "lynWEYKHsD-F"
      },
      "source": [
        "**Final Recommendations To Increase Employee Retention:**\n",
        "\n",
        "Reported employee satisfaction has a significant impact on whether employees will stay at their company or leave their company. Employee satisfaction can be increased or maintained at a high level by implementing the following:\n",
        "\n",
        "1. Increasing opportunities for promotions in the workplace. This could include discussing employee's goals in the company during employee evaluations and emphasizing promoting within the company.\n",
        "\n",
        "2. Increasing employees' salaries. This could include having a baseline increase corresponding to the company's increase in revenue and rates of inflation as well as offering additional raises and/or bonuses to employees displaying exceptional performance.\n",
        "\n",
        "Implementing these recommendations will increase employees' reported job satisfaction, and in turn, will result in an increase in employee retention."
      ]
    }
  ],
  "metadata": {
    "colab": {
      "provenance": [],
      "authorship_tag": "ABX9TyMB3QgBq/dhczhjd9S0A6h6",
      "include_colab_link": true
    },
    "kernelspec": {
      "display_name": "Python 3",
      "name": "python3"
    },
    "language_info": {
      "name": "python"
    }
  },
  "nbformat": 4,
  "nbformat_minor": 0
}